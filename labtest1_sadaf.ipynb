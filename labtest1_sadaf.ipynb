{
 "cells": [
  {
   "cell_type": "code",
   "execution_count": 1,
   "metadata": {
    "colab": {
     "base_uri": "https://localhost:8080/",
     "height": 235
    },
    "id": "Uydhkol_fqh9",
    "outputId": "3304029e-240d-4c35-ea2c-fbd8000a116e"
   },
   "outputs": [
    {
     "ename": "TypeError",
     "evalue": "'int' object is not callable",
     "output_type": "error",
     "traceback": [
      "\u001b[1;31m---------------------------------------------------------------------------\u001b[0m",
      "\u001b[1;31mTypeError\u001b[0m                                 Traceback (most recent call last)",
      "Input \u001b[1;32mIn [1]\u001b[0m, in \u001b[0;36m<cell line: 65>\u001b[1;34m()\u001b[0m\n\u001b[0;32m     67\u001b[0m s1 \u001b[38;5;241m=\u001b[39m \u001b[38;5;28mlist\u001b[39m(sent\u001b[38;5;241m.\u001b[39msplit(\u001b[38;5;124m'\u001b[39m\u001b[38;5;124m \u001b[39m\u001b[38;5;124m'\u001b[39m))\n\u001b[0;32m     68\u001b[0m c \u001b[38;5;241m=\u001b[39m Test(s1[\u001b[38;5;241m0\u001b[39m],s1[\u001b[38;5;241m1\u001b[39m])\n\u001b[1;32m---> 70\u001b[0m final \u001b[38;5;241m=\u001b[39m \u001b[43mc\u001b[49m\u001b[38;5;241;43m.\u001b[39;49m\u001b[43mparity\u001b[49m\u001b[43m(\u001b[49m\u001b[43m)\u001b[49m \u001b[38;5;241m+\u001b[39m c\u001b[38;5;241m.\u001b[39misPalindrome() \u001b[38;5;241m+\u001b[39m \u001b[38;5;124m'\u001b[39m\u001b[38;5;130;01m\\n\u001b[39;00m\u001b[38;5;124m'\u001b[39m \n\u001b[0;32m     71\u001b[0m fdata2\u001b[38;5;241m.\u001b[39mwrite(\u001b[38;5;28mstr\u001b[39m(final))\n\u001b[0;32m     72\u001b[0m sent \u001b[38;5;241m=\u001b[39m fdata\u001b[38;5;241m.\u001b[39mreadline()\n",
      "\u001b[1;31mTypeError\u001b[0m: 'int' object is not callable"
     ]
    }
   ],
   "source": [
    "fdata = open(\"input.txt\",\"r\")\n",
    "fdata2 = open(\"output.txt\",\"w\")\n",
    "fdata3 = open(\"record.txt\",\"w\")\n",
    "\n",
    "\n",
    "no_parity = 0\n",
    "even_parity = 0\n",
    "odd_parity = 0\n",
    "pali_count = 0\n",
    "no_pali_count = 0\n",
    "\n",
    "\n",
    "class Test:\n",
    "    \n",
    "\n",
    "\n",
    "  def __init__(self,num,string):\n",
    "    self.num = float(num)\n",
    "    self.string = string \n",
    "    self.parity = 0\n",
    "    self.pali = 0 \n",
    "    self.count = 0\n",
    "\n",
    "  def parity(self):\n",
    "    if not self.num.is_integer():\n",
    "      self.parity = str(self.num) +\"can not have parity and\"\n",
    "      global no_parity\n",
    "      no_parity += 1\n",
    "\n",
    "    elif self.num.is_integer() and self.num %2 == 0:\n",
    "      self.parity = str(int(self.num)) + \"has even parity and\"\n",
    "      global even_parity\n",
    "      even_parity += 1\n",
    "\n",
    "    else:\n",
    "      self.parity = str(int(self.num)) +\"has odd parity and\"\n",
    "      global odd_parity\n",
    "      odd_parity += 1\n",
    "\n",
    "    return self.num\n",
    "\n",
    "  def isPalindrome(self):\n",
    "    if self.string == None:\n",
    "      self.pali == \"No wword found\"\n",
    "      self.no_pali_count += 1\n",
    "\n",
    "    self.count = len(self.string)\n",
    "    for i in range ((self.count)//2):\n",
    "      if self.string[i] != self.string[self.count-1-i]:\n",
    "        global no_pali_count\n",
    "        no_pali_count += 1\n",
    "        self.pali = self.string + \"is not a palindrome\"\n",
    "        return self.pali\n",
    "\n",
    "      i += 1\n",
    "\n",
    "    global pali_count\n",
    "    pali_count += 1\n",
    "    self.pali = self.string + \"is a palindrome\"\n",
    "    return self.pali\n",
    "\n",
    "\n",
    "sent = fdata.readline() #returning line from the file\n",
    "sent_count = 0\n",
    "while sent:\n",
    "  sent_count += 1\n",
    "  s1 = list(sent.split(' '))\n",
    "  c = Test(s1[0],s1[1])\n",
    "\n",
    "  final = c.parity() + c.isPalindrome() + '\\n' \n",
    "  fdata2.write(str(final))\n",
    "  sent = fdata.readline()\n",
    "\n",
    "\n",
    "o_parity = \"percentage of odd parity:\" +str(int(odd_parity/sent_count)*100) +\"%\"+\"\\n\"\n",
    "e_parity = \"percentage of even parity:\" +str(int(even_parity/sent_count)*100) +\"%\"+\"\\n\"\n",
    "no_pa = \"percentage of no parity:\" +str(int(no_parity/sent_count)*100) +\"%\"+\"\\n\"\n",
    "pal = \"percentage of palindrome:\" +str(int(pali_count/sent_count)*100) +\"%\"+\"\\n\"\n",
    "no_pal = \"percentage of no palindrome:\" +str(int(no_pali_count/sent_count)*100) +\"%\"+\"\\n\"\n",
    "\n",
    "fdata3.write(o_parity)\n",
    "fdata3.write(e_parity)\n",
    "fdata3.write(no_pa)\n",
    "fdata3.write(pal)\n",
    "fdata3.write(no_pal)\n",
    "\n",
    "fdata.close()\n",
    "fdata2.close()\n",
    "fdata3.close()\n"
   ]
  },
  {
   "cell_type": "code",
   "execution_count": null,
   "metadata": {},
   "outputs": [],
   "source": []
  }
 ],
 "metadata": {
  "colab": {
   "name": "labtest1.ipynb",
   "provenance": []
  },
  "kernelspec": {
   "display_name": "Python 3 (ipykernel)",
   "language": "python",
   "name": "python3"
  },
  "language_info": {
   "codemirror_mode": {
    "name": "ipython",
    "version": 3
   },
   "file_extension": ".py",
   "mimetype": "text/x-python",
   "name": "python",
   "nbconvert_exporter": "python",
   "pygments_lexer": "ipython3",
   "version": "3.9.12"
  }
 },
 "nbformat": 4,
 "nbformat_minor": 1
}
